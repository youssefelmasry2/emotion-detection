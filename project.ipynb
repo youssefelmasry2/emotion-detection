{
 "cells": [
  {
   "cell_type": "code",
   "execution_count": 2,
   "metadata": {},
   "outputs": [],
   "source": [
    "import numpy as np\n",
    "import pandas as pd\n",
    "import matplotlib.pyplot as plt\n",
    "import seaborn as sns\n",
    "from sklearn.model_selection import train_test_split\n",
    "import tensorflow as tf\n",
    "from keras import layers, models\n",
    "from keras.preprocessing.image import ImageDataGenerator\n",
    "import os\n",
    "from keras.callbacks import EarlyStopping\n",
    "import cv2"
   ]
  },
  {
   "cell_type": "code",
   "execution_count": 2,
   "metadata": {},
   "outputs": [
    {
     "name": "stdout",
     "output_type": "stream",
     "text": [
      "version:  2.10.0\n",
      "Image Width: 48, Image Height: 48\n"
     ]
    }
   ],
   "source": [
    "print(\"version: \",tf.__version__)\n",
    "\n",
    "# Specify the path to your image\n",
    "image_path = 'angry_train.png'\n",
    "\n",
    "# Load the image using TensorFlow\n",
    "img = tf.keras.preprocessing.image.load_img(image_path)\n",
    "\n",
    "# Get the image size\n",
    "img_size = img.size\n",
    "\n",
    "# Print the width and height\n",
    "width, height = img_size\n",
    "print(f\"Image Width: {width}, Image Height: {height}\")\n"
   ]
  },
  {
   "cell_type": "code",
   "execution_count": 3,
   "metadata": {},
   "outputs": [
    {
     "name": "stdout",
     "output_type": "stream",
     "text": [
      "Found 28709 images belonging to 7 classes.\n",
      "Found 3589 images belonging to 7 classes.\n",
      "Found 3589 images belonging to 7 classes.\n"
     ]
    }
   ],
   "source": [
    "\n",
    "\n",
    "# Define the path to your dataset\n",
    "data_dir = 'data'\n",
    "\n",
    "# Define image size and batch size\n",
    "img_size = (48, 48)\n",
    "batch_size = 32\n",
    "\n",
    "# Create ImageDataGenerator instances\n",
    "train_datagen = ImageDataGenerator(\n",
    "    rescale=1./255,\n",
    "    shear_range=0.2,\n",
    "    horizontal_flip=True\n",
    ")\n",
    "\n",
    "val_datagen = ImageDataGenerator(rescale=1./255)\n",
    "test_datagen = ImageDataGenerator(rescale=1./255)\n",
    "\n",
    "# Create generators for training, validation, and testing data\n",
    "train_generator = train_datagen.flow_from_directory(\n",
    "    directory=os.path.join(data_dir, 'train'),\n",
    "    target_size=img_size,\n",
    "    batch_size=batch_size,\n",
    "    class_mode='categorical',\n",
    "    classes=['0', '1', '2', '3', '4', '5', '6'],\n",
    "    shuffle=True\n",
    ")\n",
    "\n",
    "val_generator = val_datagen.flow_from_directory(\n",
    "    directory=os.path.join(data_dir, 'val'),\n",
    "    target_size=img_size,\n",
    "    batch_size=batch_size,\n",
    "    class_mode='categorical',\n",
    "    classes=['0', '1', '2', '3', '4', '5', '6'],\n",
    "    shuffle=False  # Set to False for validation\n",
    ")\n",
    "\n",
    "test_generator = test_datagen.flow_from_directory(\n",
    "    directory=os.path.join(data_dir, 'test'),\n",
    "    target_size=img_size,\n",
    "    batch_size=batch_size,\n",
    "    class_mode='categorical',\n",
    "    classes=['0', '1', '2', '3', '4', '5', '6'],\n",
    "    shuffle=False  # Set to False for testing\n",
    ")\n",
    "\n",
    "\n",
    "\n",
    "\n"
   ]
  },
  {
   "cell_type": "code",
   "execution_count": 69,
   "metadata": {},
   "outputs": [
    {
     "name": "stdout",
     "output_type": "stream",
     "text": [
      "Epoch 1/20\n",
      "898/898 [==============================] - 26s 28ms/step - loss: 1.6302 - accuracy: 0.3552 - val_loss: 1.4486 - val_accuracy: 0.4461\n",
      "Epoch 2/20\n",
      "898/898 [==============================] - 24s 27ms/step - loss: 1.4440 - accuracy: 0.4459 - val_loss: 1.3504 - val_accuracy: 0.4840\n",
      "Epoch 3/20\n",
      "898/898 [==============================] - 26s 29ms/step - loss: 1.3644 - accuracy: 0.4724 - val_loss: 1.2825 - val_accuracy: 0.5074\n",
      "Epoch 4/20\n",
      "898/898 [==============================] - 26s 28ms/step - loss: 1.3095 - accuracy: 0.4953 - val_loss: 1.2692 - val_accuracy: 0.5024\n",
      "Epoch 5/20\n",
      "898/898 [==============================] - 26s 29ms/step - loss: 1.2653 - accuracy: 0.5141 - val_loss: 1.2608 - val_accuracy: 0.5216\n",
      "Epoch 6/20\n",
      "898/898 [==============================] - 27s 30ms/step - loss: 1.2307 - accuracy: 0.5301 - val_loss: 1.2202 - val_accuracy: 0.5302\n",
      "Epoch 7/20\n",
      "898/898 [==============================] - 31s 34ms/step - loss: 1.1978 - accuracy: 0.5427 - val_loss: 1.1952 - val_accuracy: 0.5433\n",
      "Epoch 8/20\n",
      "898/898 [==============================] - 26s 29ms/step - loss: 1.1650 - accuracy: 0.5588 - val_loss: 1.1957 - val_accuracy: 0.5361\n",
      "Epoch 9/20\n",
      "898/898 [==============================] - 28s 31ms/step - loss: 1.1403 - accuracy: 0.5650 - val_loss: 1.2023 - val_accuracy: 0.5469\n",
      "Epoch 10/20\n",
      "898/898 [==============================] - 28s 31ms/step - loss: 1.1075 - accuracy: 0.5821 - val_loss: 1.1806 - val_accuracy: 0.5433\n",
      "Epoch 11/20\n",
      "898/898 [==============================] - 29s 32ms/step - loss: 1.0871 - accuracy: 0.5892 - val_loss: 1.1765 - val_accuracy: 0.5483\n",
      "Epoch 12/20\n",
      "898/898 [==============================] - 27s 30ms/step - loss: 1.0666 - accuracy: 0.5971 - val_loss: 1.1708 - val_accuracy: 0.5595\n",
      "Epoch 13/20\n",
      "898/898 [==============================] - 25s 28ms/step - loss: 1.0454 - accuracy: 0.6043 - val_loss: 1.1662 - val_accuracy: 0.5570\n",
      "Epoch 14/20\n",
      "898/898 [==============================] - 25s 28ms/step - loss: 1.0222 - accuracy: 0.6117 - val_loss: 1.1724 - val_accuracy: 0.5656\n",
      "Epoch 15/20\n",
      "898/898 [==============================] - 25s 28ms/step - loss: 1.0088 - accuracy: 0.6202 - val_loss: 1.1752 - val_accuracy: 0.5578\n",
      "Epoch 16/20\n",
      "898/898 [==============================] - 26s 29ms/step - loss: 0.9954 - accuracy: 0.6234 - val_loss: 1.1582 - val_accuracy: 0.5623\n",
      "Epoch 17/20\n",
      "898/898 [==============================] - 26s 29ms/step - loss: 0.9689 - accuracy: 0.6356 - val_loss: 1.1781 - val_accuracy: 0.5561\n",
      "Epoch 18/20\n",
      "898/898 [==============================] - 28s 31ms/step - loss: 0.9572 - accuracy: 0.6422 - val_loss: 1.1833 - val_accuracy: 0.5653\n",
      "Epoch 19/20\n",
      "898/898 [==============================] - 26s 29ms/step - loss: 0.9438 - accuracy: 0.6468 - val_loss: 1.1972 - val_accuracy: 0.5598\n",
      "113/113 [==============================] - 1s 12ms/step - loss: 1.1360 - accuracy: 0.5782\n",
      "Test Accuracy: 0.5781554579734802, Test loss: 1.136025071144104\n"
     ]
    }
   ],
   "source": [
    "# Example: Build and train a simple CNN model\n",
    "model = tf.keras.models.Sequential([\n",
    "    tf.keras.layers.Conv2D(32, (3, 3), activation='relu', input_shape=(48, 48, 3)),\n",
    "    tf.keras.layers.MaxPooling2D((2, 2)),\n",
    "    tf.keras.layers.Conv2D(64, (3, 3), activation='relu'),\n",
    "    tf.keras.layers.MaxPooling2D((2, 2)),\n",
    "    tf.keras.layers.Flatten(),\n",
    "    tf.keras.layers.Dropout(0.5),  # Add dropout for regularization\n",
    "    tf.keras.layers.Dense(128, activation='relu'),\n",
    "    tf.keras.layers.Dense(7, activation='softmax')  # 7 classes for the 7 emotions\n",
    "])\n",
    "\n",
    "model.compile(optimizer='adam', loss='categorical_crossentropy', metrics=['accuracy'])\n",
    "\n",
    "# Train the model\n",
    "early_stopping = EarlyStopping(monitor='val_loss', patience=3, restore_best_weights=True)\n",
    "history = model.fit(train_generator, epochs=20, validation_data=val_generator, callbacks=[early_stopping])\n",
    "#history = model.fit(train_generator, epochs=10, validation_data=val_generator)\n",
    "\n",
    "# Evaluate on the test set\n",
    "test_loss, test_acc = model.evaluate(test_generator)\n",
    "print(f'Test Accuracy: {test_acc}, Test loss: {test_loss}')\n"
   ]
  },
  {
   "cell_type": "code",
   "execution_count": 61,
   "metadata": {},
   "outputs": [
    {
     "name": "stderr",
     "output_type": "stream",
     "text": [
      "WARNING:absl:Found untraced functions such as _jit_compiled_convolution_op, _jit_compiled_convolution_op while saving (showing 2 of 2). These functions will not be directly callable after loading.\n"
     ]
    },
    {
     "name": "stdout",
     "output_type": "stream",
     "text": [
      "INFO:tensorflow:Assets written to: model9\\assets\n"
     ]
    },
    {
     "name": "stderr",
     "output_type": "stream",
     "text": [
      "INFO:tensorflow:Assets written to: model9\\assets\n"
     ]
    }
   ],
   "source": [
    "# Save the model in the HDF5 format\n",
    "model.save('model9')\n",
    "\n",
    "# Load the model later using tf.keras.models.load_model('path/to/save/your/model.h5')\n"
   ]
  },
  {
   "cell_type": "code",
   "execution_count": 5,
   "metadata": {},
   "outputs": [
    {
     "name": "stdout",
     "output_type": "stream",
     "text": [
      "1/1 [==============================] - 0s 56ms/step\n",
      "Predicted Emotion: Happy\n"
     ]
    }
   ],
   "source": [
    "# Assuming you've already loaded the model\n",
    "# If you haven't loaded it, you can use:\n",
    "model = tf.keras.models.load_model('model9')\n",
    "\n",
    "# Make predictions on a single image (you can adjust the path accordingly)\n",
    "image_path = 'angry_train.png'\n",
    "img = tf.keras.preprocessing.image.load_img(image_path, target_size=(48, 48))\n",
    "img_array = tf.keras.preprocessing.image.img_to_array(img)\n",
    "img_array = tf.expand_dims(img_array, 0)  # Add batch dimension\n",
    "\n",
    "# Preprocess the image\n",
    "img_array = img_array / 255.0  # Normalize pixel values\n",
    "\n",
    "# Make predictions\n",
    "predictions = model.predict(img_array)\n",
    "\n",
    "# Get the predicted class index\n",
    "predicted_class_index = np.argmax(predictions)\n",
    "\n",
    "# Map the index to the corresponding emotion label\n",
    "emotion_labels = ['Angry', 'Disgust', 'Fear', 'Happy', 'Sad', 'Surprise', 'Neutral']\n",
    "predicted_emotion = emotion_labels[predicted_class_index]\n",
    "\n",
    "print(f\"Predicted Emotion: {predicted_emotion}\")\n"
   ]
  },
  {
   "cell_type": "code",
   "execution_count": 3,
   "metadata": {},
   "outputs": [
    {
     "name": "stdout",
     "output_type": "stream",
     "text": [
      "1/1 [==============================] - 2s 2s/step\n"
     ]
    },
    {
     "data": {
      "image/png": "[encoded data removed]",
      "text/plain": [
       "<Figure size 640x480 with 1 Axes>"
      ]
     },
     "metadata": {},
     "output_type": "display_data"
    }
   ],
   "source": [
    "\n",
    "\n",
    "# Assuming you've already loaded the model\n",
    "# If you haven't loaded it, you can use:\n",
    "model = tf.keras.models.load_model('model8')\n",
    "\n",
    "# Make predictions on a single image (you can adjust the path accordingly)\n",
    "image_path = 'angry_train.png'\n",
    "img = tf.keras.preprocessing.image.load_img(image_path, target_size=(48, 48))\n",
    "img_array = tf.keras.preprocessing.image.img_to_array(img)\n",
    "img_array = tf.expand_dims(img_array, 0)  # Add batch dimension\n",
    "\n",
    "# Preprocess the image\n",
    "img_array = img_array / 255.0  # Normalize pixel values\n",
    "\n",
    "# Make predictions\n",
    "predictions = model.predict(img_array)\n",
    "\n",
    "# Get the predicted class index\n",
    "predicted_class_index = np.argmax(predictions)\n",
    "\n",
    "# Map the index to the corresponding emotion label\n",
    "emotion_labels = ['Angry', 'Disgust', 'Fear', 'Happy', 'Sad', 'Surprise', 'Neutral']\n",
    "predicted_emotion = emotion_labels[predicted_class_index]\n",
    "\n",
    "# Visualize the image\n",
    "plt.imshow(img)\n",
    "plt.title(f'Predicted Emotion: {predicted_emotion}')\n",
    "plt.xlabel('x')\n",
    "plt.ylabel('y')\n",
    "plt.xticks(range(len(emotion_labels)), emotion_labels, rotation=45)\n",
    "plt.bar(range(len(predictions[0])), predictions[0])\n",
    "plt.show()\n"
   ]
  },
  {
   "cell_type": "code",
   "execution_count": null,
   "metadata": {},
   "outputs": [
    {
     "name": "stdout",
     "output_type": "stream",
     "text": [
      "[PhysicalDevice(name='/physical_device:GPU:0', device_type='GPU')]\n",
      "WARNING:tensorflow:From C:\\Users\\YousefMohamedSaadBre\\AppData\\Local\\Temp\\ipykernel_23416\\2026562880.py:3: is_gpu_available (from tensorflow.python.framework.test_util) is deprecated and will be removed in a future version.\n",
      "Instructions for updating:\n",
      "Use `tf.config.list_physical_devices('GPU')` instead.\n"
     ]
    },
    {
     "data": {
      "text/plain": [
       "True"
      ]
     },
     "execution_count": 2,
     "metadata": {},
     "output_type": "execute_result"
    }
   ],
   "source": [
    "import tensorflow as tf\n",
    "print(tf.config.list_physical_devices('GPU'))\n",
    "tf.test.is_gpu_available()\n"
   ]
  },
  {
   "cell_type": "code",
   "execution_count": null,
   "metadata": {},
   "outputs": [
    {
     "data": {
      "image/png": "[encoded data removed]",
      "text/plain": [
       "<Figure size 640x480 with 1 Axes>"
      ]
     },
     "metadata": {},
     "output_type": "display_data"
    }
   ],
   "source": [
    "# Plot training history\n",
    "plt.plot(history.history['accuracy'], label='accuracy')\n",
    "plt.plot(history.history['val_accuracy'], label='val_accuracy')\n",
    "plt.xlabel('Epoch')\n",
    "plt.ylabel('Accuracy')\n",
    "plt.legend(loc='lower right')\n",
    "plt.show()\n"
   ]
  },
  {
   "cell_type": "code",
   "execution_count": 3,
   "metadata": {},
   "outputs": [
    {
     "name": "stdout",
     "output_type": "stream",
     "text": [
      "Model: \"sequential_10\"\n",
      "_________________________________________________________________\n",
      " Layer (type)                Output Shape              Param #   \n",
      "=================================================================\n",
      " conv2d_16 (Conv2D)          (None, 46, 46, 32)        896       \n",
      "                                                                 \n",
      " max_pooling2d_15 (MaxPoolin  (None, 23, 23, 32)       0         \n",
      " g2D)                                                            \n",
      "                                                                 \n",
      " conv2d_17 (Conv2D)          (None, 21, 21, 64)        18496     \n",
      "                                                                 \n",
      " max_pooling2d_16 (MaxPoolin  (None, 10, 10, 64)       0         \n",
      " g2D)                                                            \n",
      "                                                                 \n",
      " flatten_10 (Flatten)        (None, 6400)              0         \n",
      "                                                                 \n",
      " dropout_4 (Dropout)         (None, 6400)              0         \n",
      "                                                                 \n",
      " dense_21 (Dense)            (None, 128)               819328    \n",
      "                                                                 \n",
      " dense_22 (Dense)            (None, 7)                 903       \n",
      "                                                                 \n",
      "=================================================================\n",
      "Total params: 839,623\n",
      "Trainable params: 839,623\n",
      "Non-trainable params: 0\n",
      "_________________________________________________________________\n",
      "None\n"
     ]
    }
   ],
   "source": [
    "model = tf.keras.models.load_model('model8')\n",
    "print(model.summary())\n"
   ]
  },
  {
   "cell_type": "code",
   "execution_count": null,
   "metadata": {},
   "outputs": [],
   "source": []
  }
 ],
 "metadata": {
  "kernelspec": {
   "display_name": "Python 3",
   "language": "python",
   "name": "python3"
  },
  "language_info": {
   "codemirror_mode": {
    "name": "ipython",
    "version": 3
   },
   "file_extension": ".py",
   "mimetype": "text/x-python",
   "name": "python",
   "nbconvert_exporter": "python",
   "pygments_lexer": "ipython3",
   "version": "3.9.18"
  }
 },
 "nbformat": 4,
 "nbformat_minor": 2
}
